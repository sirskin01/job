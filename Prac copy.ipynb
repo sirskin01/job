{
 "cells": [
  {
   "cell_type": "code",
   "execution_count": 1,
   "id": "80495c85",
   "metadata": {},
   "outputs": [
    {
     "name": "stdout",
     "output_type": "stream",
     "text": [
      "prinple amount: 67000\n",
      "rate of interest: 12\n",
      "time period5\n",
      "40200.0\n",
      "Total amount is 107200.0\n"
     ]
    }
   ],
   "source": [
    "P = float(input(\"prinple amount: \"))\n",
    "R = float(input(\"rate of interest: \"))\n",
    "T = int(input(\"time period\"))\n",
    "S = (P*R*T)/100\n",
    "print(S)\n",
    "total_amt = P + S\n",
    "print(\"Total amount is {}\".format(total_amt))"
   ]
  },
  {
   "cell_type": "code",
   "execution_count": 7,
   "id": "b3b0a616",
   "metadata": {},
   "outputs": [
    {
     "name": "stdout",
     "output_type": "stream",
     "text": [
      "0\n",
      "1\n",
      "3\n",
      "5\n",
      "7\n",
      "9\n",
      "11\n"
     ]
    }
   ],
   "source": [
    "num = [0,1,2,3,4,5,6]\n",
    "for i in range(len(num)):\n",
    "    if i == 0:\n",
    "        print(num[i])\n",
    "    else:\n",
    "        print(num[i - 1] + num[i])"
   ]
  },
  {
   "cell_type": "code",
   "execution_count": 11,
   "id": "2d7eab58",
   "metadata": {},
   "outputs": [
    {
     "name": "stdout",
     "output_type": "stream",
     "text": [
      "Enter a search number: 7\n",
      "the number does not exits\n"
     ]
    }
   ],
   "source": [
    "l = [4,5,6,2,3,9,1,4,5,6,3]\n",
    "n = int(input(\"Enter a search number: \"))\n",
    "for i in l:\n",
    "    if i == n:\n",
    "        print(\"the number exits\")\n",
    "        break\n",
    "    else:\n",
    "        print(\"the number does not exits\")\n",
    "        break"
   ]
  },
  {
   "cell_type": "code",
   "execution_count": 13,
   "id": "a616eb61",
   "metadata": {},
   "outputs": [
    {
     "name": "stdout",
     "output_type": "stream",
     "text": [
      "enter a num: 352\n",
      "253\n",
      "the number is not a palindom\n"
     ]
    }
   ],
   "source": [
    "n = int(input(\"enter a num: \"))\n",
    "rev_num = str(n)[::-1]\n",
    "print(rev_num)\n",
    "if n == int(rev_num):\n",
    "    print(\"the number is a palindrom\")\n",
    "else:\n",
    "    print('the number is not a palindom')"
   ]
  },
  {
   "cell_type": "code",
   "execution_count": 15,
   "id": "939710ec",
   "metadata": {},
   "outputs": [
    {
     "name": "stdout",
     "output_type": "stream",
     "text": [
      "[1, 3, 5, 6, 8, 10]\n"
     ]
    }
   ],
   "source": [
    "l1 = [1,2,3,4,5]\n",
    "l2 = [6,7,8,9,10]\n",
    "l3 = []\n",
    "for i in l1:\n",
    "    if i%2 != 0:\n",
    "        l3.append(i)\n",
    "for i in l2:\n",
    "    if i%2 == 0:\n",
    "        l3.append(i)\n",
    "print(l3)\n",
    "        "
   ]
  },
  {
   "cell_type": "code",
   "execution_count": 16,
   "id": "3c671d12",
   "metadata": {},
   "outputs": [
    {
     "name": "stdout",
     "output_type": "stream",
     "text": [
      "1 2 3 4 5 6 7 8 9 10 \n",
      "\n",
      "2 4 6 8 10 12 14 16 18 20 \n",
      "\n",
      "3 6 9 12 15 18 21 24 27 30 \n",
      "\n",
      "4 8 12 16 20 24 28 32 36 40 \n",
      "\n",
      "5 10 15 20 25 30 35 40 45 50 \n",
      "\n",
      "6 12 18 24 30 36 42 48 54 60 \n",
      "\n",
      "7 14 21 28 35 42 49 56 63 70 \n",
      "\n",
      "8 16 24 32 40 48 56 64 72 80 \n",
      "\n",
      "9 18 27 36 45 54 63 72 81 90 \n",
      "\n",
      "10 20 30 40 50 60 70 80 90 100 \n",
      "\n"
     ]
    }
   ],
   "source": [
    "for i in range(1,11):\n",
    "    for j in range(1,11):\n",
    "        print(i*j, end=\" \")\n",
    "    print(\"\\n\")"
   ]
  },
  {
   "cell_type": "code",
   "execution_count": null,
   "id": "ae9f7694",
   "metadata": {},
   "outputs": [],
   "source": []
  }
 ],
 "metadata": {
  "kernelspec": {
   "display_name": "Python 3 (ipykernel)",
   "language": "python",
   "name": "python3"
  },
  "language_info": {
   "codemirror_mode": {
    "name": "ipython",
    "version": 3
   },
   "file_extension": ".py",
   "mimetype": "text/x-python",
   "name": "python",
   "nbconvert_exporter": "python",
   "pygments_lexer": "ipython3",
   "version": "3.9.7"
  }
 },
 "nbformat": 4,
 "nbformat_minor": 5
}
